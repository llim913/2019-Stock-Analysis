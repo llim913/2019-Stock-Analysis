{
  "nbformat": 4,
  "nbformat_minor": 0,
  "metadata": {
    "colab": {
      "name": "[기말프로젝트]_혼자한거_마지막_임성민.ipynb",
      "provenance": [],
      "collapsed_sections": [
        "I6ZVnHuS8SUa",
        "kRo85H-yRbKJ",
        "Y5Z-z_hqoIxQ",
        "zD0ytG74b0lI"
      ]
    },
    "kernelspec": {
      "name": "python3",
      "display_name": "Python 3"
    }
  },
  "cells": [
    {
      "cell_type": "markdown",
      "metadata": {
        "id": "I6ZVnHuS8SUa"
      },
      "source": [
        "#기본코드\n",
        "\n"
      ]
    },
    {
      "cell_type": "code",
      "metadata": {
        "id": "scZKPqE-QjAJ",
        "colab": {
          "base_uri": "https://localhost:8080/",
          "height": 649
        },
        "outputId": "6c4a7a75-ca05-47a5-9b87-19a03bd39693"
      },
      "source": [
        "!pip install -U finance-datareader\n",
        "!pip install mpl_finance\n",
        "import FinanceDataReader as fdr\n",
        "df_krx = fdr.StockListing('KRX')\n"
      ],
      "execution_count": null,
      "outputs": [
        {
          "output_type": "stream",
          "text": [
            "Collecting finance-datareader\n",
            "  Downloading https://files.pythonhosted.org/packages/e4/a3/a34f5312db83efd9e9808f0a5d5f0d859cbbcbe62d53b1182ba2f0df7dbe/finance_datareader-0.8.2-py3-none-any.whl\n",
            "Collecting requests-file\n",
            "  Downloading https://files.pythonhosted.org/packages/23/9c/6e63c23c39e53d3df41c77a3d05a49a42c4e1383a6d2a5e3233161b89dbf/requests_file-1.4.3-py2.py3-none-any.whl\n",
            "Requirement already satisfied, skipping upgrade: requests>=2.3.0 in /usr/local/lib/python3.6/dist-packages (from finance-datareader) (2.21.0)\n",
            "Requirement already satisfied, skipping upgrade: lxml in /usr/local/lib/python3.6/dist-packages (from finance-datareader) (4.2.6)\n",
            "Requirement already satisfied, skipping upgrade: pandas>=0.19.2 in /usr/local/lib/python3.6/dist-packages (from finance-datareader) (0.25.3)\n",
            "Requirement already satisfied, skipping upgrade: six in /usr/local/lib/python3.6/dist-packages (from requests-file->finance-datareader) (1.12.0)\n",
            "Requirement already satisfied, skipping upgrade: idna<2.9,>=2.5 in /usr/local/lib/python3.6/dist-packages (from requests>=2.3.0->finance-datareader) (2.8)\n",
            "Requirement already satisfied, skipping upgrade: chardet<3.1.0,>=3.0.2 in /usr/local/lib/python3.6/dist-packages (from requests>=2.3.0->finance-datareader) (3.0.4)\n",
            "Requirement already satisfied, skipping upgrade: urllib3<1.25,>=1.21.1 in /usr/local/lib/python3.6/dist-packages (from requests>=2.3.0->finance-datareader) (1.24.3)\n",
            "Requirement already satisfied, skipping upgrade: certifi>=2017.4.17 in /usr/local/lib/python3.6/dist-packages (from requests>=2.3.0->finance-datareader) (2019.11.28)\n",
            "Requirement already satisfied, skipping upgrade: python-dateutil>=2.6.1 in /usr/local/lib/python3.6/dist-packages (from pandas>=0.19.2->finance-datareader) (2.6.1)\n",
            "Requirement already satisfied, skipping upgrade: numpy>=1.13.3 in /usr/local/lib/python3.6/dist-packages (from pandas>=0.19.2->finance-datareader) (1.17.4)\n",
            "Requirement already satisfied, skipping upgrade: pytz>=2017.2 in /usr/local/lib/python3.6/dist-packages (from pandas>=0.19.2->finance-datareader) (2018.9)\n",
            "Installing collected packages: requests-file, finance-datareader\n",
            "Successfully installed finance-datareader-0.8.2 requests-file-1.4.3\n",
            "Collecting mpl_finance\n",
            "  Downloading https://files.pythonhosted.org/packages/d3/83/92f0593ea39122075d115d2578034283bcc790f679cdbe61d0d3902c59f1/mpl_finance-0.10.0.tar.gz\n",
            "Requirement already satisfied: matplotlib in /usr/local/lib/python3.6/dist-packages (from mpl_finance) (3.1.2)\n",
            "Requirement already satisfied: numpy>=1.11 in /usr/local/lib/python3.6/dist-packages (from matplotlib->mpl_finance) (1.17.4)\n",
            "Requirement already satisfied: python-dateutil>=2.1 in /usr/local/lib/python3.6/dist-packages (from matplotlib->mpl_finance) (2.6.1)\n",
            "Requirement already satisfied: pyparsing!=2.0.4,!=2.1.2,!=2.1.6,>=2.0.1 in /usr/local/lib/python3.6/dist-packages (from matplotlib->mpl_finance) (2.4.5)\n",
            "Requirement already satisfied: cycler>=0.10 in /usr/local/lib/python3.6/dist-packages (from matplotlib->mpl_finance) (0.10.0)\n",
            "Requirement already satisfied: kiwisolver>=1.0.1 in /usr/local/lib/python3.6/dist-packages (from matplotlib->mpl_finance) (1.1.0)\n",
            "Requirement already satisfied: six>=1.5 in /usr/local/lib/python3.6/dist-packages (from python-dateutil>=2.1->matplotlib->mpl_finance) (1.12.0)\n",
            "Requirement already satisfied: setuptools in /usr/local/lib/python3.6/dist-packages (from kiwisolver>=1.0.1->matplotlib->mpl_finance) (42.0.1)\n",
            "Building wheels for collected packages: mpl-finance\n",
            "  Building wheel for mpl-finance (setup.py) ... \u001b[?25l\u001b[?25hdone\n",
            "  Created wheel for mpl-finance: filename=mpl_finance-0.10.0-cp36-none-any.whl size=5509 sha256=b46bc85edd028ccf6436052ee1279c2277d45e33bfe0bf412262cf4989b2614f\n",
            "  Stored in directory: /root/.cache/pip/wheels/67/db/24/04ddd06ec9a5e4500b44c13d8e95898f5b90b512303e385de8\n",
            "Successfully built mpl-finance\n",
            "Installing collected packages: mpl-finance\n",
            "Successfully installed mpl-finance-0.10.0\n"
          ],
          "name": "stdout"
        }
      ]
    },
    {
      "cell_type": "code",
      "metadata": {
        "id": "Ycaz4ETC6s12"
      },
      "source": [
        "import mpl_finance \n",
        "from mpl_finance import candlestick2_ohlc\n",
        "%matplotlib inline\n",
        "import matplotlib.ticker as ticker\n",
        "import numpy as np\n",
        "import pandas_datareader.data as web\n",
        "import datetime\n",
        "from sklearn import linear_model\n",
        "import matplotlib\n",
        "import matplotlib.pyplot as plt\n",
        "%matplotlib inline\n",
        "matplotlib.style.use('ggplot')\n",
        "import pandas as pd \n",
        "import FinanceDataReader as fdr"
      ],
      "execution_count": null,
      "outputs": []
    },
    {
      "cell_type": "code",
      "metadata": {
        "id": "FNxjAXBR6pIl",
        "colab": {
          "base_uri": "https://localhost:8080/",
          "height": 93
        },
        "outputId": "fe86cf83-40d7-454d-fbe7-656f9ac9beb4"
      },
      "source": [
        "\n",
        "name=input('주식 코드 기업명 ?')\n",
        "#find 종목 코드 및 정보\n",
        "df_krx[df_krx['Name'].str.contains(name)]\n"
      ],
      "execution_count": null,
      "outputs": [
        {
          "output_type": "stream",
          "text": [
            "주식 코드 기업명 ?호텔신라\n"
          ],
          "name": "stdout"
        },
        {
          "output_type": "execute_result",
          "data": {
            "text/html": [
              "<div>\n",
              "<style scoped>\n",
              "    .dataframe tbody tr th:only-of-type {\n",
              "        vertical-align: middle;\n",
              "    }\n",
              "\n",
              "    .dataframe tbody tr th {\n",
              "        vertical-align: top;\n",
              "    }\n",
              "\n",
              "    .dataframe thead th {\n",
              "        text-align: right;\n",
              "    }\n",
              "</style>\n",
              "<table border=\"1\" class=\"dataframe\">\n",
              "  <thead>\n",
              "    <tr style=\"text-align: right;\">\n",
              "      <th></th>\n",
              "      <th>Symbol</th>\n",
              "      <th>Name</th>\n",
              "      <th>Sector</th>\n",
              "      <th>Industry</th>\n",
              "    </tr>\n",
              "  </thead>\n",
              "  <tbody>\n",
              "    <tr>\n",
              "      <th>99</th>\n",
              "      <td>008770</td>\n",
              "      <td>호텔신라</td>\n",
              "      <td>기타 상품 전문 소매업</td>\n",
              "      <td>면세판매,관광숙박,외식사업,예식업</td>\n",
              "    </tr>\n",
              "  </tbody>\n",
              "</table>\n",
              "</div>"
            ],
            "text/plain": [
              "    Symbol  Name        Sector            Industry\n",
              "99  008770  호텔신라  기타 상품 전문 소매업  면세판매,관광숙박,외식사업,예식업"
            ]
          },
          "metadata": {
            "tags": []
          },
          "execution_count": 8
        }
      ]
    },
    {
      "cell_type": "code",
      "metadata": {
        "id": "KIArOj-O6wSo",
        "colab": {
          "base_uri": "https://localhost:8080/",
          "height": 420
        },
        "outputId": "ce2a7586-f626-4928-cb14-df2d814c9625"
      },
      "source": [
        "kospi = fdr.DataReader('KS11', '2019-01-01','2019-12-06')\n",
        "삼성바이오=fdr.DataReader('207940', '2019-01-01','2019-12-06')\n",
        "호텔신라=fdr.DataReader('008770', '2019-01-01','2019-12-06')\n",
        "SK하이닉스=fdr.DataReader('000660', '2019-01-01','2019-12-06')\n",
        "젬백스=fdr.DataReader('082270', '2019-01-01','2019-12-06')\n",
        "\n",
        "젬백스"
      ],
      "execution_count": null,
      "outputs": [
        {
          "output_type": "execute_result",
          "data": {
            "text/html": [
              "<div>\n",
              "<style scoped>\n",
              "    .dataframe tbody tr th:only-of-type {\n",
              "        vertical-align: middle;\n",
              "    }\n",
              "\n",
              "    .dataframe tbody tr th {\n",
              "        vertical-align: top;\n",
              "    }\n",
              "\n",
              "    .dataframe thead th {\n",
              "        text-align: right;\n",
              "    }\n",
              "</style>\n",
              "<table border=\"1\" class=\"dataframe\">\n",
              "  <thead>\n",
              "    <tr style=\"text-align: right;\">\n",
              "      <th></th>\n",
              "      <th>Open</th>\n",
              "      <th>High</th>\n",
              "      <th>Low</th>\n",
              "      <th>Close</th>\n",
              "      <th>Volume</th>\n",
              "      <th>Change</th>\n",
              "    </tr>\n",
              "    <tr>\n",
              "      <th>Date</th>\n",
              "      <th></th>\n",
              "      <th></th>\n",
              "      <th></th>\n",
              "      <th></th>\n",
              "      <th></th>\n",
              "      <th></th>\n",
              "    </tr>\n",
              "  </thead>\n",
              "  <tbody>\n",
              "    <tr>\n",
              "      <th>2019-01-02</th>\n",
              "      <td>12250</td>\n",
              "      <td>12250</td>\n",
              "      <td>11600</td>\n",
              "      <td>11600</td>\n",
              "      <td>136937</td>\n",
              "      <td>-0.033333</td>\n",
              "    </tr>\n",
              "    <tr>\n",
              "      <th>2019-01-03</th>\n",
              "      <td>11600</td>\n",
              "      <td>11800</td>\n",
              "      <td>11400</td>\n",
              "      <td>11450</td>\n",
              "      <td>123640</td>\n",
              "      <td>-0.012931</td>\n",
              "    </tr>\n",
              "    <tr>\n",
              "      <th>2019-01-04</th>\n",
              "      <td>11200</td>\n",
              "      <td>11450</td>\n",
              "      <td>10950</td>\n",
              "      <td>11450</td>\n",
              "      <td>176723</td>\n",
              "      <td>0.000000</td>\n",
              "    </tr>\n",
              "    <tr>\n",
              "      <th>2019-01-07</th>\n",
              "      <td>11650</td>\n",
              "      <td>11650</td>\n",
              "      <td>11300</td>\n",
              "      <td>11450</td>\n",
              "      <td>121251</td>\n",
              "      <td>0.000000</td>\n",
              "    </tr>\n",
              "    <tr>\n",
              "      <th>2019-01-08</th>\n",
              "      <td>11550</td>\n",
              "      <td>11550</td>\n",
              "      <td>11000</td>\n",
              "      <td>11100</td>\n",
              "      <td>159859</td>\n",
              "      <td>-0.030568</td>\n",
              "    </tr>\n",
              "    <tr>\n",
              "      <th>...</th>\n",
              "      <td>...</td>\n",
              "      <td>...</td>\n",
              "      <td>...</td>\n",
              "      <td>...</td>\n",
              "      <td>...</td>\n",
              "      <td>...</td>\n",
              "    </tr>\n",
              "    <tr>\n",
              "      <th>2019-12-02</th>\n",
              "      <td>25250</td>\n",
              "      <td>26200</td>\n",
              "      <td>23500</td>\n",
              "      <td>25850</td>\n",
              "      <td>652789</td>\n",
              "      <td>0.017717</td>\n",
              "    </tr>\n",
              "    <tr>\n",
              "      <th>2019-12-03</th>\n",
              "      <td>25800</td>\n",
              "      <td>26850</td>\n",
              "      <td>23650</td>\n",
              "      <td>23900</td>\n",
              "      <td>1168109</td>\n",
              "      <td>-0.075435</td>\n",
              "    </tr>\n",
              "    <tr>\n",
              "      <th>2019-12-04</th>\n",
              "      <td>24500</td>\n",
              "      <td>26000</td>\n",
              "      <td>23900</td>\n",
              "      <td>25000</td>\n",
              "      <td>1192742</td>\n",
              "      <td>0.046025</td>\n",
              "    </tr>\n",
              "    <tr>\n",
              "      <th>2019-12-05</th>\n",
              "      <td>25800</td>\n",
              "      <td>32000</td>\n",
              "      <td>18250</td>\n",
              "      <td>31550</td>\n",
              "      <td>18364368</td>\n",
              "      <td>0.262000</td>\n",
              "    </tr>\n",
              "    <tr>\n",
              "      <th>2019-12-06</th>\n",
              "      <td>32800</td>\n",
              "      <td>41000</td>\n",
              "      <td>32000</td>\n",
              "      <td>41000</td>\n",
              "      <td>15533744</td>\n",
              "      <td>0.299525</td>\n",
              "    </tr>\n",
              "  </tbody>\n",
              "</table>\n",
              "<p>231 rows × 6 columns</p>\n",
              "</div>"
            ],
            "text/plain": [
              "             Open   High    Low  Close    Volume    Change\n",
              "Date                                                      \n",
              "2019-01-02  12250  12250  11600  11600    136937 -0.033333\n",
              "2019-01-03  11600  11800  11400  11450    123640 -0.012931\n",
              "2019-01-04  11200  11450  10950  11450    176723  0.000000\n",
              "2019-01-07  11650  11650  11300  11450    121251  0.000000\n",
              "2019-01-08  11550  11550  11000  11100    159859 -0.030568\n",
              "...           ...    ...    ...    ...       ...       ...\n",
              "2019-12-02  25250  26200  23500  25850    652789  0.017717\n",
              "2019-12-03  25800  26850  23650  23900   1168109 -0.075435\n",
              "2019-12-04  24500  26000  23900  25000   1192742  0.046025\n",
              "2019-12-05  25800  32000  18250  31550  18364368  0.262000\n",
              "2019-12-06  32800  41000  32000  41000  15533744  0.299525\n",
              "\n",
              "[231 rows x 6 columns]"
            ]
          },
          "metadata": {
            "tags": []
          },
          "execution_count": 9
        }
      ]
    },
    {
      "cell_type": "code",
      "metadata": {
        "id": "ICmEuEqr63q-",
        "colab": {
          "base_uri": "https://localhost:8080/",
          "height": 162
        },
        "outputId": "0c706e55-3f86-422f-f850-fe0d4d72a751"
      },
      "source": [
        "df =  pd.concat([삼성바이오['Close'], 호텔신라['Close'],SK하이닉스['Close'],\n",
        "                젬백스['Close']],axis=1)\n",
        "df.set_axis(['SSBL','HTSL','SKH','JBS'],axis=1,inplace=True)\n",
        "#df.columns = (['SSBL','HTSL','SKH','JBS'],axis=1)\n",
        "df.head(3)"
      ],
      "execution_count": null,
      "outputs": [
        {
          "output_type": "execute_result",
          "data": {
            "text/html": [
              "<div>\n",
              "<style scoped>\n",
              "    .dataframe tbody tr th:only-of-type {\n",
              "        vertical-align: middle;\n",
              "    }\n",
              "\n",
              "    .dataframe tbody tr th {\n",
              "        vertical-align: top;\n",
              "    }\n",
              "\n",
              "    .dataframe thead th {\n",
              "        text-align: right;\n",
              "    }\n",
              "</style>\n",
              "<table border=\"1\" class=\"dataframe\">\n",
              "  <thead>\n",
              "    <tr style=\"text-align: right;\">\n",
              "      <th></th>\n",
              "      <th>SSBL</th>\n",
              "      <th>HTSL</th>\n",
              "      <th>SKH</th>\n",
              "      <th>JBS</th>\n",
              "    </tr>\n",
              "    <tr>\n",
              "      <th>Date</th>\n",
              "      <th></th>\n",
              "      <th></th>\n",
              "      <th></th>\n",
              "      <th></th>\n",
              "    </tr>\n",
              "  </thead>\n",
              "  <tbody>\n",
              "    <tr>\n",
              "      <th>2019-01-02</th>\n",
              "      <td>374000</td>\n",
              "      <td>73100</td>\n",
              "      <td>60600</td>\n",
              "      <td>11600</td>\n",
              "    </tr>\n",
              "    <tr>\n",
              "      <th>2019-01-03</th>\n",
              "      <td>376500</td>\n",
              "      <td>72700</td>\n",
              "      <td>57700</td>\n",
              "      <td>11450</td>\n",
              "    </tr>\n",
              "    <tr>\n",
              "      <th>2019-01-04</th>\n",
              "      <td>381000</td>\n",
              "      <td>71200</td>\n",
              "      <td>58300</td>\n",
              "      <td>11450</td>\n",
              "    </tr>\n",
              "  </tbody>\n",
              "</table>\n",
              "</div>"
            ],
            "text/plain": [
              "              SSBL   HTSL    SKH    JBS\n",
              "Date                                   \n",
              "2019-01-02  374000  73100  60600  11600\n",
              "2019-01-03  376500  72700  57700  11450\n",
              "2019-01-04  381000  71200  58300  11450"
            ]
          },
          "metadata": {
            "tags": []
          },
          "execution_count": 27
        }
      ]
    },
    {
      "cell_type": "code",
      "metadata": {
        "id": "mVrh6joAZjBx",
        "colab": {
          "base_uri": "https://localhost:8080/",
          "height": 162
        },
        "outputId": "366c475a-86b9-46cd-ef73-b9c6fce9f3d6"
      },
      "source": [
        "#rev는 수익률\n",
        "rev = df.diff(axis = 0 , periods = 1) / df.shift(periods = 1)\n",
        "rev.dropna(inplace = True)\n",
        "rev.head(3)\n",
        "#diff (오늘종가 - 어제종가 )/ shift (어제종가) \n",
        "#내가 기간을 5일전을 한다 --- periods = 5 로 하면뎀 (shift도 5로 )"
      ],
      "execution_count": null,
      "outputs": [
        {
          "output_type": "execute_result",
          "data": {
            "text/html": [
              "<div>\n",
              "<style scoped>\n",
              "    .dataframe tbody tr th:only-of-type {\n",
              "        vertical-align: middle;\n",
              "    }\n",
              "\n",
              "    .dataframe tbody tr th {\n",
              "        vertical-align: top;\n",
              "    }\n",
              "\n",
              "    .dataframe thead th {\n",
              "        text-align: right;\n",
              "    }\n",
              "</style>\n",
              "<table border=\"1\" class=\"dataframe\">\n",
              "  <thead>\n",
              "    <tr style=\"text-align: right;\">\n",
              "      <th></th>\n",
              "      <th>SSBL</th>\n",
              "      <th>HTSL</th>\n",
              "      <th>SKH</th>\n",
              "      <th>JBS</th>\n",
              "    </tr>\n",
              "    <tr>\n",
              "      <th>Date</th>\n",
              "      <th></th>\n",
              "      <th></th>\n",
              "      <th></th>\n",
              "      <th></th>\n",
              "    </tr>\n",
              "  </thead>\n",
              "  <tbody>\n",
              "    <tr>\n",
              "      <th>2019-01-03</th>\n",
              "      <td>0.006684</td>\n",
              "      <td>-0.005472</td>\n",
              "      <td>-0.047855</td>\n",
              "      <td>-0.012931</td>\n",
              "    </tr>\n",
              "    <tr>\n",
              "      <th>2019-01-04</th>\n",
              "      <td>0.011952</td>\n",
              "      <td>-0.020633</td>\n",
              "      <td>0.010399</td>\n",
              "      <td>0.000000</td>\n",
              "    </tr>\n",
              "    <tr>\n",
              "      <th>2019-01-07</th>\n",
              "      <td>0.018373</td>\n",
              "      <td>-0.002809</td>\n",
              "      <td>0.006861</td>\n",
              "      <td>0.000000</td>\n",
              "    </tr>\n",
              "  </tbody>\n",
              "</table>\n",
              "</div>"
            ],
            "text/plain": [
              "                SSBL      HTSL       SKH       JBS\n",
              "Date                                              \n",
              "2019-01-03  0.006684 -0.005472 -0.047855 -0.012931\n",
              "2019-01-04  0.011952 -0.020633  0.010399  0.000000\n",
              "2019-01-07  0.018373 -0.002809  0.006861  0.000000"
            ]
          },
          "metadata": {
            "tags": []
          },
          "execution_count": 28
        }
      ]
    },
    {
      "cell_type": "markdown",
      "metadata": {
        "id": "3rnhe0pSVLKY"
      },
      "source": [
        "#1207 일별, 주별, 월별, 분기별 투자 수익률을 구하시오, 학번 20182890"
      ]
    },
    {
      "cell_type": "markdown",
      "metadata": {
        "id": "kRo85H-yRbKJ"
      },
      "source": [
        "##일별"
      ]
    },
    {
      "cell_type": "code",
      "metadata": {
        "id": "lw2pe6D7bswb",
        "colab": {
          "base_uri": "https://localhost:8080/",
          "height": 35
        },
        "outputId": "3396e89e-91cc-4a08-dfba-21638ac5c489"
      },
      "source": [
        "rev.shape[0]"
      ],
      "execution_count": null,
      "outputs": [
        {
          "output_type": "execute_result",
          "data": {
            "text/plain": [
              "230"
            ]
          },
          "metadata": {
            "tags": []
          },
          "execution_count": 29
        }
      ]
    },
    {
      "cell_type": "code",
      "metadata": {
        "id": "8ii-PwAOc1fE",
        "colab": {
          "base_uri": "https://localhost:8080/",
          "height": 35
        },
        "outputId": "a8b6db88-706f-4a9b-a795-b4a2c1c365d8"
      },
      "source": [
        "import numpy as np\n",
        "rev= np.array(rev)\n",
        "one =np.array(np.repeat(1,rev.shape[0]))\n",
        "one.shape"
      ],
      "execution_count": null,
      "outputs": [
        {
          "output_type": "execute_result",
          "data": {
            "text/plain": [
              "(230,)"
            ]
          },
          "metadata": {
            "tags": []
          },
          "execution_count": 30
        }
      ]
    },
    {
      "cell_type": "code",
      "metadata": {
        "id": "BQ4k49n6YJFP",
        "colab": {
          "base_uri": "https://localhost:8080/",
          "height": 35
        },
        "outputId": "0a0c9aaa-3c7a-464b-d0ec-27271c4d1558"
      },
      "source": [
        "exp = one.T@rev/rev.shape[0]\n",
        "exp"
      ],
      "execution_count": null,
      "outputs": [
        {
          "output_type": "execute_result",
          "data": {
            "text/plain": [
              "array([0.0005059 , 0.00074571, 0.00148687, 0.00650823])"
            ]
          },
          "metadata": {
            "tags": []
          },
          "execution_count": 31
        }
      ]
    },
    {
      "cell_type": "markdown",
      "metadata": {
        "id": "zOzInIf6jQQD"
      },
      "source": [
        "###수익률 공분산 구하기"
      ]
    },
    {
      "cell_type": "code",
      "metadata": {
        "id": "UvLBChu-gUn1",
        "colab": {
          "base_uri": "https://localhost:8080/",
          "height": 87
        },
        "outputId": "a080b67f-1a6b-49d4-dfd8-8c0a3de7f786"
      },
      "source": [
        "exp_repeat = np.tile(exp,(rev.shape[0],1))\n",
        "exp_repeat.shape\n",
        "A = rev.T - exp_repeat.T \n",
        "B = rev - exp_repeat\n",
        "(A @ B)\n",
        "cov_fn = (A @ B)/rev.shape[0]\n",
        "cov_fn\n",
        "#리스크\n",
        "#1*1,2*2,3*3,4*4"
      ],
      "execution_count": null,
      "outputs": [
        {
          "output_type": "execute_result",
          "data": {
            "text/plain": [
              "array([[5.39425685e-04, 4.54526395e-05, 2.54202740e-05, 1.81396454e-04],\n",
              "       [4.54526395e-05, 5.67423237e-04, 1.01976747e-04, 1.08643163e-04],\n",
              "       [2.54202740e-05, 1.01976747e-04, 4.94425317e-04, 2.21164211e-04],\n",
              "       [1.81396454e-04, 1.08643163e-04, 2.21164211e-04, 2.13313988e-03]])"
            ]
          },
          "metadata": {
            "tags": []
          },
          "execution_count": 32
        }
      ]
    },
    {
      "cell_type": "markdown",
      "metadata": {
        "id": "GtKa7pKIjPGA"
      },
      "source": [
        "###투자포트폴리오  기대수익률 , 위험분산 구하기"
      ]
    },
    {
      "cell_type": "code",
      "metadata": {
        "id": "bw6XVqdqjcev"
      },
      "source": [
        "import numpy as np \n",
        "pf = np.array([[ 0.25, 0.25, 0.25, 0.25] ,\n",
        "               [0.1, 0.2, 0.2, 0.5]  ,\n",
        "              [0.3 , 0.1, 0, 0.6 ]])\n"
      ],
      "execution_count": null,
      "outputs": []
    },
    {
      "cell_type": "code",
      "metadata": {
        "id": "_O_X2hN-joll",
        "colab": {
          "base_uri": "https://localhost:8080/",
          "height": 35
        },
        "outputId": "2bc92603-a943-4b23-82f8-8f20a472ecf4"
      },
      "source": [
        "pf@exp\n",
        "#기대수익률\n"
      ],
      "execution_count": null,
      "outputs": [
        {
          "output_type": "execute_result",
          "data": {
            "text/plain": [
              "array([0.00231168, 0.00375122, 0.00413128])"
            ]
          },
          "metadata": {
            "tags": []
          },
          "execution_count": 93
        }
      ]
    },
    {
      "cell_type": "code",
      "metadata": {
        "id": "xpMiZHGjjiIk",
        "colab": {
          "base_uri": "https://localhost:8080/",
          "height": 70
        },
        "outputId": "77e3a5f8-00b5-4e5d-c8da-aacf318c2dbb"
      },
      "source": [
        "pf[0]@cov_fn@pf[0].T #p1의 분산\n",
        "pf[1]@cov_fn@pf[1].T #p2의 분산\n",
        "pf[2]@cov_fn@pf[2].T #p3의 분산\n",
        "\n",
        "\n",
        "pf@cov_fn@pf.T\n",
        "#위험분산"
      ],
      "execution_count": null,
      "outputs": [
        {
          "output_type": "execute_result",
          "data": {
            "text/plain": [
              "array([[0.00031891, 0.00043366, 0.00047662],\n",
              "       [0.00043366, 0.00067625, 0.00075732],\n",
              "       [0.00047662, 0.00075732, 0.00090322]])"
            ]
          },
          "metadata": {
            "tags": []
          },
          "execution_count": 75
        }
      ]
    },
    {
      "cell_type": "markdown",
      "metadata": {
        "id": "WH50gqyKlU_f"
      },
      "source": [
        "기대수익률을 보고 선택한다면 3번포트폴리오를 선택한다. - 위험투자자들 추천\n",
        "\n",
        "위험분산이 가장 낮은 것은 1번 포트폴리오를 선택한다. - 수동적인 투자자들 추천\n",
        "\n"
      ]
    },
    {
      "cell_type": "markdown",
      "metadata": {
        "id": "q9T48udQlpet"
      },
      "source": [
        "###최소분산 포트폴리오\n",
        "\n"
      ]
    },
    {
      "cell_type": "code",
      "metadata": {
        "id": "orBKt4FOl96-",
        "colab": {
          "base_uri": "https://localhost:8080/",
          "height": 35
        },
        "outputId": "6d1a1f11-0acc-41e0-fb04-06e7d7f5def7"
      },
      "source": [
        "#최소분산 포트폴리오\n",
        "import numpy.linalg as la\n",
        "a=la.inv(cov_fn)#역행렬 함수 inv\n",
        "ab=np.array([np.repeat(1,rev.shape[1]),])\n",
        "W=(ab@a)/(ab@a@ab.T)\n",
        "W"
      ],
      "execution_count": null,
      "outputs": [
        {
          "output_type": "execute_result",
          "data": {
            "text/plain": [
              "array([[0.34966568, 0.28276109, 0.34742944, 0.02014379]])"
            ]
          },
          "metadata": {
            "tags": []
          },
          "execution_count": 76
        }
      ]
    },
    {
      "cell_type": "code",
      "metadata": {
        "id": "Y8jT-b2EnCKp",
        "colab": {
          "base_uri": "https://localhost:8080/",
          "height": 35
        },
        "outputId": "53526cac-13ae-4b3c-e75b-bab78359e1cc"
      },
      "source": [
        "#W@exp.T 최소분산 포트폴리오의 기대 수익률\n",
        "W@exp.T"
      ],
      "execution_count": null,
      "outputs": [
        {
          "output_type": "execute_result",
          "data": {
            "text/plain": [
              "array([0.00103543])"
            ]
          },
          "metadata": {
            "tags": []
          },
          "execution_count": 77
        }
      ]
    },
    {
      "cell_type": "markdown",
      "metadata": {
        "id": "Y5Z-z_hqoIxQ"
      },
      "source": [
        "##주별"
      ]
    },
    {
      "cell_type": "code",
      "metadata": {
        "id": "iOE3fuvloNVl",
        "colab": {
          "base_uri": "https://localhost:8080/",
          "height": 162
        },
        "outputId": "f5189bbe-74ce-48ca-fea5-19ae6703fb99"
      },
      "source": [
        "sha = df.diff(axis = 0 , periods = 1) / df.shift(periods = 1)\n",
        "sha.dropna(inplace = True)\n",
        "import datetime \n",
        "sha['day'] = sha.index.weekday\n",
        "sha['quarter'] = sha.index.quarter\n",
        "sha['week'] = sha.index.week\n",
        "sha['month'] = sha.index.month\n",
        "sha['year'] = sha.index.year\n",
        "sha.head(3)"
      ],
      "execution_count": null,
      "outputs": [
        {
          "output_type": "execute_result",
          "data": {
            "text/html": [
              "<div>\n",
              "<style scoped>\n",
              "    .dataframe tbody tr th:only-of-type {\n",
              "        vertical-align: middle;\n",
              "    }\n",
              "\n",
              "    .dataframe tbody tr th {\n",
              "        vertical-align: top;\n",
              "    }\n",
              "\n",
              "    .dataframe thead th {\n",
              "        text-align: right;\n",
              "    }\n",
              "</style>\n",
              "<table border=\"1\" class=\"dataframe\">\n",
              "  <thead>\n",
              "    <tr style=\"text-align: right;\">\n",
              "      <th></th>\n",
              "      <th>SSBL</th>\n",
              "      <th>HTSL</th>\n",
              "      <th>SKH</th>\n",
              "      <th>JBS</th>\n",
              "      <th>day</th>\n",
              "      <th>quarter</th>\n",
              "      <th>week</th>\n",
              "      <th>month</th>\n",
              "      <th>year</th>\n",
              "    </tr>\n",
              "    <tr>\n",
              "      <th>Date</th>\n",
              "      <th></th>\n",
              "      <th></th>\n",
              "      <th></th>\n",
              "      <th></th>\n",
              "      <th></th>\n",
              "      <th></th>\n",
              "      <th></th>\n",
              "      <th></th>\n",
              "      <th></th>\n",
              "    </tr>\n",
              "  </thead>\n",
              "  <tbody>\n",
              "    <tr>\n",
              "      <th>2019-01-03</th>\n",
              "      <td>0.006684</td>\n",
              "      <td>-0.005472</td>\n",
              "      <td>-0.047855</td>\n",
              "      <td>-0.012931</td>\n",
              "      <td>3</td>\n",
              "      <td>1</td>\n",
              "      <td>1</td>\n",
              "      <td>1</td>\n",
              "      <td>2019</td>\n",
              "    </tr>\n",
              "    <tr>\n",
              "      <th>2019-01-04</th>\n",
              "      <td>0.011952</td>\n",
              "      <td>-0.020633</td>\n",
              "      <td>0.010399</td>\n",
              "      <td>0.000000</td>\n",
              "      <td>4</td>\n",
              "      <td>1</td>\n",
              "      <td>1</td>\n",
              "      <td>1</td>\n",
              "      <td>2019</td>\n",
              "    </tr>\n",
              "    <tr>\n",
              "      <th>2019-01-07</th>\n",
              "      <td>0.018373</td>\n",
              "      <td>-0.002809</td>\n",
              "      <td>0.006861</td>\n",
              "      <td>0.000000</td>\n",
              "      <td>0</td>\n",
              "      <td>1</td>\n",
              "      <td>2</td>\n",
              "      <td>1</td>\n",
              "      <td>2019</td>\n",
              "    </tr>\n",
              "  </tbody>\n",
              "</table>\n",
              "</div>"
            ],
            "text/plain": [
              "                SSBL      HTSL       SKH       JBS  ...  quarter  week  month  year\n",
              "Date                                                ...                            \n",
              "2019-01-03  0.006684 -0.005472 -0.047855 -0.012931  ...        1     1      1  2019\n",
              "2019-01-04  0.011952 -0.020633  0.010399  0.000000  ...        1     1      1  2019\n",
              "2019-01-07  0.018373 -0.002809  0.006861  0.000000  ...        1     2      1  2019\n",
              "\n",
              "[3 rows x 9 columns]"
            ]
          },
          "metadata": {
            "tags": []
          },
          "execution_count": 132
        }
      ]
    },
    {
      "cell_type": "code",
      "metadata": {
        "id": "jK9Zw-8SpK1H",
        "colab": {
          "base_uri": "https://localhost:8080/",
          "height": 162
        },
        "outputId": "b163c2d5-bf17-4d4e-db88-6e5045aa3ec0"
      },
      "source": [
        "sha['week'] = sha['year'].astype(str)+'_'+ sha['week'].astype(str)\n",
        "sha_w = sha.groupby(['week']).mean().iloc[:,0:4]\n",
        "sha_w.head(3)\n",
        "#주간"
      ],
      "execution_count": null,
      "outputs": [
        {
          "output_type": "execute_result",
          "data": {
            "text/html": [
              "<div>\n",
              "<style scoped>\n",
              "    .dataframe tbody tr th:only-of-type {\n",
              "        vertical-align: middle;\n",
              "    }\n",
              "\n",
              "    .dataframe tbody tr th {\n",
              "        vertical-align: top;\n",
              "    }\n",
              "\n",
              "    .dataframe thead th {\n",
              "        text-align: right;\n",
              "    }\n",
              "</style>\n",
              "<table border=\"1\" class=\"dataframe\">\n",
              "  <thead>\n",
              "    <tr style=\"text-align: right;\">\n",
              "      <th></th>\n",
              "      <th>SSBL</th>\n",
              "      <th>HTSL</th>\n",
              "      <th>SKH</th>\n",
              "      <th>JBS</th>\n",
              "    </tr>\n",
              "    <tr>\n",
              "      <th>week</th>\n",
              "      <th></th>\n",
              "      <th></th>\n",
              "      <th></th>\n",
              "      <th></th>\n",
              "    </tr>\n",
              "  </thead>\n",
              "  <tbody>\n",
              "    <tr>\n",
              "      <th>2019_1</th>\n",
              "      <td>0.009318</td>\n",
              "      <td>-0.013052</td>\n",
              "      <td>-0.018728</td>\n",
              "      <td>-0.006466</td>\n",
              "    </tr>\n",
              "    <tr>\n",
              "      <th>2019_10</th>\n",
              "      <td>-0.001294</td>\n",
              "      <td>0.006901</td>\n",
              "      <td>-0.009558</td>\n",
              "      <td>-0.003569</td>\n",
              "    </tr>\n",
              "    <tr>\n",
              "      <th>2019_11</th>\n",
              "      <td>-0.017895</td>\n",
              "      <td>0.006339</td>\n",
              "      <td>0.004219</td>\n",
              "      <td>0.004446</td>\n",
              "    </tr>\n",
              "  </tbody>\n",
              "</table>\n",
              "</div>"
            ],
            "text/plain": [
              "             SSBL      HTSL       SKH       JBS\n",
              "week                                           \n",
              "2019_1   0.009318 -0.013052 -0.018728 -0.006466\n",
              "2019_10 -0.001294  0.006901 -0.009558 -0.003569\n",
              "2019_11 -0.017895  0.006339  0.004219  0.004446"
            ]
          },
          "metadata": {
            "tags": []
          },
          "execution_count": 134
        }
      ]
    },
    {
      "cell_type": "code",
      "metadata": {
        "id": "lNnwU7h7oxPD",
        "colab": {
          "base_uri": "https://localhost:8080/",
          "height": 162
        },
        "outputId": "34832487-bc0d-4c19-8f49-2e03079044af"
      },
      "source": [
        "sha['month'] = sha['year'].astype(str)+'_'+ sha['month'].astype(str)\n",
        "sha_m = sha.groupby(['month']).mean().iloc[:,0:4]\n",
        "sha_m.head(3)\n",
        "#월간"
      ],
      "execution_count": null,
      "outputs": [
        {
          "output_type": "execute_result",
          "data": {
            "text/html": [
              "<div>\n",
              "<style scoped>\n",
              "    .dataframe tbody tr th:only-of-type {\n",
              "        vertical-align: middle;\n",
              "    }\n",
              "\n",
              "    .dataframe tbody tr th {\n",
              "        vertical-align: top;\n",
              "    }\n",
              "\n",
              "    .dataframe thead th {\n",
              "        text-align: right;\n",
              "    }\n",
              "</style>\n",
              "<table border=\"1\" class=\"dataframe\">\n",
              "  <thead>\n",
              "    <tr style=\"text-align: right;\">\n",
              "      <th></th>\n",
              "      <th>SSBL</th>\n",
              "      <th>HTSL</th>\n",
              "      <th>SKH</th>\n",
              "      <th>JBS</th>\n",
              "    </tr>\n",
              "    <tr>\n",
              "      <th>month</th>\n",
              "      <th></th>\n",
              "      <th></th>\n",
              "      <th></th>\n",
              "      <th></th>\n",
              "    </tr>\n",
              "  </thead>\n",
              "  <tbody>\n",
              "    <tr>\n",
              "      <th>2019_1</th>\n",
              "      <td>0.003222</td>\n",
              "      <td>0.002603</td>\n",
              "      <td>0.010002</td>\n",
              "      <td>0.003797</td>\n",
              "    </tr>\n",
              "    <tr>\n",
              "      <th>2019_10</th>\n",
              "      <td>0.012683</td>\n",
              "      <td>-0.004854</td>\n",
              "      <td>0.000068</td>\n",
              "      <td>0.040001</td>\n",
              "    </tr>\n",
              "    <tr>\n",
              "      <th>2019_11</th>\n",
              "      <td>-0.000488</td>\n",
              "      <td>0.004361</td>\n",
              "      <td>-0.000536</td>\n",
              "      <td>0.000002</td>\n",
              "    </tr>\n",
              "  </tbody>\n",
              "</table>\n",
              "</div>"
            ],
            "text/plain": [
              "             SSBL      HTSL       SKH       JBS\n",
              "month                                          \n",
              "2019_1   0.003222  0.002603  0.010002  0.003797\n",
              "2019_10  0.012683 -0.004854  0.000068  0.040001\n",
              "2019_11 -0.000488  0.004361 -0.000536  0.000002"
            ]
          },
          "metadata": {
            "tags": []
          },
          "execution_count": 133
        }
      ]
    },
    {
      "cell_type": "code",
      "metadata": {
        "id": "38q3HH7wpfNu",
        "colab": {
          "base_uri": "https://localhost:8080/",
          "height": 35
        },
        "outputId": "04d822df-c737-44bd-99b0-853b7b9b2b7b"
      },
      "source": [
        "import numpy as np\n",
        "sha_w= np.array(sha_w)\n",
        "one1 =np.array(np.repeat(1,sha_w.shape[0]))\n",
        "one1.shape"
      ],
      "execution_count": null,
      "outputs": [
        {
          "output_type": "execute_result",
          "data": {
            "text/plain": [
              "(49,)"
            ]
          },
          "metadata": {
            "tags": []
          },
          "execution_count": 135
        }
      ]
    },
    {
      "cell_type": "code",
      "metadata": {
        "id": "bt3l5TJIppbm",
        "colab": {
          "base_uri": "https://localhost:8080/",
          "height": 35
        },
        "outputId": "b2172cc8-74a5-434d-98ff-e911dae6ef5a"
      },
      "source": [
        "exp1 = one1.T@sha_w/sha_w.shape[0]\n",
        "exp1"
      ],
      "execution_count": null,
      "outputs": [
        {
          "output_type": "execute_result",
          "data": {
            "text/plain": [
              "array([0.00056693, 0.00026588, 0.00088314, 0.00609417])"
            ]
          },
          "metadata": {
            "tags": []
          },
          "execution_count": 136
        }
      ]
    },
    {
      "cell_type": "code",
      "metadata": {
        "id": "mRYAp1rqpvxv",
        "colab": {
          "base_uri": "https://localhost:8080/",
          "height": 87
        },
        "outputId": "7c9d49b7-5876-4f71-f4d2-d5a8c306cd38"
      },
      "source": [
        "exp_repeat1 = np.tile(exp1,(sha_w.shape[0],1))\n",
        "exp_repeat1.shape\n",
        "A1 = sha_w.T - exp_repeat1.T \n",
        "B1 = sha_w - exp_repeat1\n",
        "(A1 @ B1)\n",
        "cov_fn1 = (A1 @ B1)/sha_w.shape[0]\n",
        "cov_fn1\n",
        "#리스크\n",
        "#1*1,2*2,3*3,4*4\n",
        "#공분산"
      ],
      "execution_count": null,
      "outputs": [
        {
          "output_type": "execute_result",
          "data": {
            "text/plain": [
              "array([[1.09131351e-04, 7.51756891e-06, 2.53812163e-05, 3.41772671e-05],\n",
              "       [7.51756891e-06, 1.06170402e-04, 3.88451027e-05, 4.13262311e-06],\n",
              "       [2.53812163e-05, 3.88451027e-05, 1.15732753e-04, 4.35244533e-06],\n",
              "       [3.41772671e-05, 4.13262311e-06, 4.35244533e-06, 5.79503139e-04]])"
            ]
          },
          "metadata": {
            "tags": []
          },
          "execution_count": 137
        }
      ]
    },
    {
      "cell_type": "code",
      "metadata": {
        "id": "RN_IA2G1qBlK",
        "colab": {
          "base_uri": "https://localhost:8080/",
          "height": 35
        },
        "outputId": "5f78f5ea-86c3-4f2a-ecf1-813123f75d4e"
      },
      "source": [
        "pf@exp1\n",
        "#주간 기대수익률"
      ],
      "execution_count": null,
      "outputs": [
        {
          "output_type": "execute_result",
          "data": {
            "text/plain": [
              "array([0.00195253, 0.00333358, 0.00385317])"
            ]
          },
          "metadata": {
            "tags": []
          },
          "execution_count": 138
        }
      ]
    },
    {
      "cell_type": "code",
      "metadata": {
        "id": "84UF-EwQqI6C",
        "colab": {
          "base_uri": "https://localhost:8080/",
          "height": 70
        },
        "outputId": "b376e2d5-ee86-4120-dbb1-e43ee1b9d0cb"
      },
      "source": [
        "pf[0]@cov_fn1@pf[0].T #p1의 분산\n",
        "pf[1]@cov_fn1@pf[1].T #p2의 분산\n",
        "pf[2]@cov_fn1@pf[2].T #p3의 분산\n",
        "\n",
        "\n",
        "pf@cov_fn1@pf.T\n",
        "#주간 위험분산"
      ],
      "execution_count": null,
      "outputs": [
        {
          "output_type": "execute_result",
          "data": {
            "text/plain": [
              "array([[7.12093807e-05, 9.92247301e-05, 1.10457019e-04],\n",
              "       [9.92247301e-05, 1.64381524e-04, 1.90476360e-04],\n",
              "       [1.10457019e-04, 1.90476360e-04, 2.32755441e-04]])"
            ]
          },
          "metadata": {
            "tags": []
          },
          "execution_count": 139
        }
      ]
    },
    {
      "cell_type": "code",
      "metadata": {
        "id": "gFMVTxvMqSh9",
        "colab": {
          "base_uri": "https://localhost:8080/",
          "height": 35
        },
        "outputId": "d72de3e6-0a6b-4a96-e26f-1a0d400f18b2"
      },
      "source": [
        "#최소분산 포트폴리오\n",
        "import numpy.linalg as la\n",
        "a1=la.inv(cov_fn1)#역행렬 함수 inv\n",
        "ab1=np.array([np.repeat(1,sha_w.shape[1]),])\n",
        "W1=(ab1@a1)/(ab1@a1@ab1.T)\n",
        "W1"
      ],
      "execution_count": null,
      "outputs": [
        {
          "output_type": "execute_result",
          "data": {
            "text/plain": [
              "array([[0.35712247, 0.355053  , 0.22775224, 0.06007229]])"
            ]
          },
          "metadata": {
            "tags": []
          },
          "execution_count": 140
        }
      ]
    },
    {
      "cell_type": "code",
      "metadata": {
        "id": "zwH32xAWqe9A",
        "colab": {
          "base_uri": "https://localhost:8080/",
          "height": 35
        },
        "outputId": "819e52d2-a5db-4d0a-c52e-0f76ce7f26b3"
      },
      "source": [
        "#W@exp.T 최소분산 포트폴리오의 기대 수익률\n",
        "W1@exp1.T"
      ],
      "execution_count": null,
      "outputs": [
        {
          "output_type": "execute_result",
          "data": {
            "text/plain": [
              "array([0.00086409])"
            ]
          },
          "metadata": {
            "tags": []
          },
          "execution_count": 141
        }
      ]
    },
    {
      "cell_type": "markdown",
      "metadata": {
        "id": "zD0ytG74b0lI"
      },
      "source": [
        "#로그 기대수익률 가져오기"
      ]
    },
    {
      "cell_type": "code",
      "metadata": {
        "id": "SiuQpB7Cchm_"
      },
      "source": [
        "re = df.diff(axis = 0 , periods = 1) / df.shift(periods = 1)\n",
        "\n",
        "re.dropna(inplace = True)"
      ],
      "execution_count": null,
      "outputs": []
    },
    {
      "cell_type": "code",
      "metadata": {
        "id": "qZktXe3gb7Ab",
        "colab": {
          "base_uri": "https://localhost:8080/",
          "height": 105
        },
        "outputId": "5484292a-2db9-406f-e776-b6167b66f437"
      },
      "source": [
        "mu = re.mean()\n",
        "mu\n",
        "#기대 로그수익률"
      ],
      "execution_count": null,
      "outputs": [
        {
          "output_type": "execute_result",
          "data": {
            "text/plain": [
              "SSBL    0.000506\n",
              "HTSL    0.000746\n",
              "SKH     0.001487\n",
              "JBS     0.006508\n",
              "dtype: float64"
            ]
          },
          "metadata": {
            "tags": []
          },
          "execution_count": 103
        }
      ]
    },
    {
      "cell_type": "code",
      "metadata": {
        "id": "MhtYdtP3b6-F",
        "colab": {
          "base_uri": "https://localhost:8080/",
          "height": 105
        },
        "outputId": "5afa8f12-26e2-4617-f80c-e40d4ffc0574"
      },
      "source": [
        "muy = re.mean()*230 #1년간 거래일\n",
        "muy\n",
        "#년간 기대 로그수익률 추정"
      ],
      "execution_count": null,
      "outputs": [
        {
          "output_type": "execute_result",
          "data": {
            "text/plain": [
              "SSBL    0.116356\n",
              "HTSL    0.171513\n",
              "SKH     0.341979\n",
              "JBS     1.496893\n",
              "dtype: float64"
            ]
          },
          "metadata": {
            "tags": []
          },
          "execution_count": 104
        }
      ]
    },
    {
      "cell_type": "code",
      "metadata": {
        "id": "AkypvfEZb68I",
        "colab": {
          "base_uri": "https://localhost:8080/",
          "height": 35
        },
        "outputId": "fb13aec8-2f52-4000-abe6-cdae8e63f0e2"
      },
      "source": [
        "mu = mu.values\n",
        "mu\n",
        "#넘피 어레이 형태로 바꾸어줌"
      ],
      "execution_count": null,
      "outputs": [
        {
          "output_type": "execute_result",
          "data": {
            "text/plain": [
              "array([0.0005059 , 0.00074571, 0.00148687, 0.00650823])"
            ]
          },
          "metadata": {
            "tags": []
          },
          "execution_count": 105
        }
      ]
    },
    {
      "cell_type": "code",
      "metadata": {
        "id": "UqEvKi-hb62s",
        "colab": {
          "base_uri": "https://localhost:8080/",
          "height": 35
        },
        "outputId": "1fdce415-b575-4b4e-f8b1-3b96d9db78ca"
      },
      "source": [
        "port_re = pf.dot(mu)\n",
        "port_re\n",
        "#pf의 기대수익률 = port_re"
      ],
      "execution_count": null,
      "outputs": [
        {
          "output_type": "execute_result",
          "data": {
            "text/plain": [
              "array([0.00231168, 0.00375122, 0.00413128])"
            ]
          },
          "metadata": {
            "tags": []
          },
          "execution_count": 106
        }
      ]
    },
    {
      "cell_type": "code",
      "metadata": {
        "id": "SqhJ1Ufgb6uD",
        "colab": {
          "base_uri": "https://localhost:8080/",
          "height": 105
        },
        "outputId": "b0d503c1-e363-44e8-8ebd-be1310607d04"
      },
      "source": [
        "re.std()\n",
        "#일별 수익률의 표준편차를 나타냄\n",
        "#변동성이 클 수록 위험이 큼\n",
        "#년간 계산하고 싶으면 루트(230)을 곱함= np.sqrt(230)\n"
      ],
      "execution_count": null,
      "outputs": [
        {
          "output_type": "execute_result",
          "data": {
            "text/plain": [
              "SSBL    0.023276\n",
              "HTSL    0.023873\n",
              "SKH     0.022284\n",
              "JBS     0.046287\n",
              "dtype: float64"
            ]
          },
          "metadata": {
            "tags": []
          },
          "execution_count": 107
        }
      ]
    },
    {
      "cell_type": "code",
      "metadata": {
        "id": "jLORtw1UeS83",
        "colab": {
          "base_uri": "https://localhost:8080/",
          "height": 87
        },
        "outputId": "1352e548-06fb-4e87-f648-01c93f6d7aa1"
      },
      "source": [
        "cov_mat = re.cov()\n",
        "cov_mat = cov_mat.values #레이어로 저장\n",
        "cov_mat\n",
        "#단위를 년 환산하기 위해 230곱함\n",
        "#공분산이 기업별 리스크"
      ],
      "execution_count": null,
      "outputs": [
        {
          "output_type": "execute_result",
          "data": {
            "text/plain": [
              "array([[5.41781256e-04, 4.56511227e-05, 2.55312796e-05, 1.82188579e-04],\n",
              "       [4.56511227e-05, 5.69901068e-04, 1.02422060e-04, 1.09117587e-04],\n",
              "       [2.55312796e-05, 1.02422060e-04, 4.96584379e-04, 2.22129994e-04],\n",
              "       [1.82188579e-04, 1.09117587e-04, 2.22129994e-04, 2.14245490e-03]])"
            ]
          },
          "metadata": {
            "tags": []
          },
          "execution_count": 108
        }
      ]
    },
    {
      "cell_type": "code",
      "metadata": {
        "id": "lkDlMvmgfLYA",
        "colab": {
          "base_uri": "https://localhost:8080/",
          "height": 70
        },
        "outputId": "31a557b4-723a-4215-dc91-8025bd222351"
      },
      "source": [
        "port_var = np.dot(np.dot(pf, cov_mat), pf.T) \n",
        "port_std = np.sqrt(port_var) \n",
        "print(\"Risk: \", port_std)\n",
        "#포트폴리오의 리스크"
      ],
      "execution_count": null,
      "outputs": [
        {
          "output_type": "stream",
          "text": [
            "Risk:  [[0.01789693 0.02086991 0.02187915]\n",
            " [0.02086991 0.02606147 0.0275795 ]\n",
            " [0.02187915 0.0275795  0.03011917]]\n"
          ],
          "name": "stdout"
        }
      ]
    },
    {
      "cell_type": "code",
      "metadata": {
        "id": "ynhZ5brPboHR",
        "colab": {
          "base_uri": "https://localhost:8080/",
          "height": 52
        },
        "outputId": "aac9cacf-d7b0-4c01-bab6-c3a8a68543f3"
      },
      "source": [
        "print(mu[0],mu[1],mu[2],mu[3])\n",
        "print(port_re)\n",
        "#'SSBL','HTSL','SKH','JBS'의 기대수익률\n",
        "#포트폴리오 기대수익률"
      ],
      "execution_count": null,
      "outputs": [
        {
          "output_type": "stream",
          "text": [
            "0.0005058951899011879 0.0007457071417695828 0.0014868657256615746 0.006508232600708729\n",
            "[0.00231168 0.00375122 0.00413128]\n"
          ],
          "name": "stdout"
        }
      ]
    },
    {
      "cell_type": "code",
      "metadata": {
        "id": "MN7fbN67gSPC",
        "colab": {
          "base_uri": "https://localhost:8080/",
          "height": 35
        },
        "outputId": "1f3490fc-841f-4e3c-8758-4f71d96f4c98"
      },
      "source": [
        "print(np.sqrt(cov_fn[0][0]),np.sqrt(cov_fn[1][1]),\n",
        "                                   np.sqrt(cov_fn[2][2]), np.sqrt(cov_fn[3][3]))\n",
        "#'SSBL','HTSL','SKH','JBS'의 리스크"
      ],
      "execution_count": null,
      "outputs": [
        {
          "output_type": "stream",
          "text": [
            "0.023225539499939024 0.023820647290496173 0.022235676668758184 0.046185927330237284\n"
          ],
          "name": "stdout"
        }
      ]
    },
    {
      "cell_type": "code",
      "metadata": {
        "id": "rVhDlq5mhVGU",
        "colab": {
          "base_uri": "https://localhost:8080/",
          "height": 70
        },
        "outputId": "aa1ab2e2-0f5e-49c3-9b94-8b3ec894fc4d"
      },
      "source": [
        "port_std\n",
        "#포트폴리오의 리스크 1*1, 2*2, 3*3"
      ],
      "execution_count": null,
      "outputs": [
        {
          "output_type": "execute_result",
          "data": {
            "text/plain": [
              "array([[0.01789693, 0.02086991, 0.02187915],\n",
              "       [0.02086991, 0.02606147, 0.0275795 ],\n",
              "       [0.02187915, 0.0275795 , 0.03011917]])"
            ]
          },
          "metadata": {
            "tags": []
          },
          "execution_count": 125
        }
      ]
    },
    {
      "cell_type": "code",
      "metadata": {
        "id": "Irb4lKb_h26v"
      },
      "source": [
        ""
      ],
      "execution_count": null,
      "outputs": []
    }
  ]
}